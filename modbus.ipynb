{
 "cells": [
  {
   "cell_type": "code",
   "execution_count": 1,
   "metadata": {},
   "outputs": [],
   "source": [
    "from pymodbus.client.sync import ModbusTcpClient as ModbusClient\n",
    "# from pymodbus.client.sync import ModbusUdpClient as ModbusClient\n",
    "# from pymodbus.client.sync import ModbusSerialClient as ModbusClient\n",
    "# from pymodbus.client.sync import ModbusTcpClient\n",
    "from pymodbus.constants import Endian\n",
    "from pymodbus.payload import BinaryPayloadBuilder\n",
    "from pymodbus.payload import BinaryPayloadDecoder\n",
    "from collections import OrderedDict\n",
    "import struct\n"
   ]
  },
  {
   "cell_type": "code",
   "execution_count": null,
   "metadata": {},
   "outputs": [],
   "source": [
    "client = ModbusClient('192.168.2.16')\n",
    "client.connect()"
   ]
  },
  {
   "cell_type": "code",
   "execution_count": null,
   "metadata": {},
   "outputs": [],
   "source": [
    "con"
   ]
  },
  {
   "cell_type": "code",
   "execution_count": null,
   "metadata": {},
   "outputs": [],
   "source": [
    "result.registers"
   ]
  },
  {
   "cell_type": "code",
   "execution_count": null,
   "metadata": {},
   "outputs": [],
   "source": []
  },
  {
   "cell_type": "code",
   "execution_count": 27,
   "metadata": {},
   "outputs": [
    {
     "name": "stderr",
     "output_type": "stream",
     "text": [
      "2018-12-08 03:19:08,822 MainThread      DEBUG    <ipython-input-27-435ed2f7b186>:19       Write to a holding register and read back\n",
      "2018-12-08 03:19:08,822 MainThread      DEBUG    payload        :124      [16818, 50051]\n",
      "2018-12-08 03:19:08,823 MainThread      DEBUG    transaction    :111      Current transaction state - IDLE\n",
      "2018-12-08 03:19:08,823 MainThread      DEBUG    transaction    :115      Running transaction 1\n",
      "2018-12-08 03:19:08,823 MainThread      DEBUG    transaction    :206      SEND: 0x0 0x1 0x0 0x0 0x0 0x6 0x1 0x4 0x20 0x12 0x0 0x2\n",
      "2018-12-08 03:19:08,824 MainThread      DEBUG    sync           :75       New Transaction state 'SENDING'\n",
      "2018-12-08 03:19:08,824 MainThread      DEBUG    transaction    :209      Changing transaction state from 'SENDING' to 'WAITING FOR REPLY'\n",
      "2018-12-08 03:19:08,827 MainThread      DEBUG    transaction    :284      Changing transaction state from 'WAITING FOR REPLY' to 'PROCESSING REPLY'\n",
      "2018-12-08 03:19:08,828 MainThread      DEBUG    transaction    :214      RECV: 0x0 0x1 0x0 0x0 0x0 0x7 0x1 0x4 0x4 0x3f 0xdf 0x3e 0xbd\n",
      "2018-12-08 03:19:08,828 MainThread      DEBUG    socket_framer  :147      Processing: 0x0 0x1 0x0 0x0 0x0 0x7 0x1 0x4 0x4 0x3f 0xdf 0x3e 0xbd\n",
      "2018-12-08 03:19:08,829 MainThread      DEBUG    factory        :246      Factory Response[ReadInputRegistersResponse: 4]\n",
      "2018-12-08 03:19:08,829 MainThread      DEBUG    transaction    :363      Adding transaction 1\n",
      "2018-12-08 03:19:08,830 MainThread      DEBUG    transaction    :374      Getting transaction 1\n",
      "2018-12-08 03:19:08,830 MainThread      DEBUG    transaction    :180      Changing transaction state from 'PROCESSING REPLY' to 'TRANSACTION_COMPLETE'\n",
      "2018-12-08 03:19:08,830 MainThread      DEBUG    transaction    :111      Current transaction state - TRANSACTION_COMPLETE\n",
      "2018-12-08 03:19:08,831 MainThread      DEBUG    transaction    :115      Running transaction 2\n",
      "2018-12-08 03:19:08,831 MainThread      DEBUG    transaction    :206      SEND: 0x0 0x2 0x0 0x0 0x0 0x6 0x1 0x3 0x60 0x12 0x0 0x2\n",
      "2018-12-08 03:19:08,832 MainThread      DEBUG    sync           :75       New Transaction state 'SENDING'\n",
      "2018-12-08 03:19:08,832 MainThread      DEBUG    transaction    :209      Changing transaction state from 'SENDING' to 'WAITING FOR REPLY'\n",
      "2018-12-08 03:19:08,835 MainThread      DEBUG    transaction    :284      Changing transaction state from 'WAITING FOR REPLY' to 'PROCESSING REPLY'\n",
      "2018-12-08 03:19:08,835 MainThread      DEBUG    transaction    :214      RECV: 0x0 0x2 0x0 0x0 0x0 0x7 0x1 0x3 0x4 0x48 0x66 0x4 0xec\n",
      "2018-12-08 03:19:08,836 MainThread      DEBUG    socket_framer  :147      Processing: 0x0 0x2 0x0 0x0 0x0 0x7 0x1 0x3 0x4 0x48 0x66 0x4 0xec\n",
      "2018-12-08 03:19:08,836 MainThread      DEBUG    factory        :246      Factory Response[ReadHoldingRegistersResponse: 3]\n",
      "2018-12-08 03:19:08,836 MainThread      DEBUG    transaction    :363      Adding transaction 2\n",
      "2018-12-08 03:19:08,837 MainThread      DEBUG    transaction    :374      Getting transaction 2\n",
      "2018-12-08 03:19:08,837 MainThread      DEBUG    transaction    :180      Changing transaction state from 'PROCESSING REPLY' to 'TRANSACTION_COMPLETE'\n"
     ]
    }
   ],
   "source": [
    "from pymodbus.client.sync import ModbusTcpClient as ModbusClient\n",
    "\n",
    "import logging\n",
    "FORMAT = ('%(asctime)-15s %(threadName)-15s '\n",
    "          '%(levelname)-8s %(module)-15s:%(lineno)-8s %(message)s')\n",
    "logging.basicConfig(format=FORMAT)\n",
    "log = logging.getLogger()\n",
    "log.setLevel(logging.DEBUG)\n",
    "\n",
    "UNIT = 0x1\n",
    "\n",
    "\n",
    "def run_sync_client():\n",
    "    # ------------------------------------------------------------------------#\n",
    "\n",
    "    client = ModbusClient('192.168.2.16', port=502)\n",
    "    client.connect()\n",
    "    \n",
    "    log.debug(\"Write to a holding register and read back\")\n",
    "    builder = BinaryPayloadBuilder(byteorder=Endian.Big,\n",
    "                                   wordorder=Endian.Big)\n",
    "    builder.add_32bit_float(22.34546456546156516)\n",
    "    payload = builder.build()\n",
    "    \n",
    "    \n",
    "#     Can write registers\n",
    "    registers = builder.to_registers()\n",
    "#     rr = client.write_registers(24590, registers, unit=UNIT)\n",
    "\n",
    "    # Or can write encoded binary string\n",
    "#     print(payload)\n",
    "#     rr = client.write_register(24590, payload, skip_encode=True, unit=UNIT)\n",
    "#     print(rr)\n",
    "#     assert(rr.registers[0] == 10)       # test the expected value\n",
    "\n",
    "#     log.debug(\"Read input registers\")\n",
    "    rr = client.read_input_registers(8210, 2, unit=UNIT)\n",
    "# #     print(rr)\n",
    "# #     arguments = {\n",
    "# #         'read_address':    1,\n",
    "# #         'read_count':      8,\n",
    "# #         'write_address':   1,\n",
    "# #         'write_registers': [20]*8,\n",
    "# #     }\n",
    "# #     log.debug(\"Read write registeres simulataneously\")\n",
    "# #     rq = client.readwrite_registers(unit=UNIT, **arguments)\n",
    "    rr = client.read_holding_registers(24594, 2, unit=UNIT)\n",
    "#     print(rr)\n",
    "#     assert(not rq.isError())     # test that we are not an error\n",
    "#     assert(rq.registers == [20]*8)      # test the expected value\n",
    "#     assert(rr.registers == [20]*8)      # test the expected value\n",
    "\n",
    "    # ----------------------------------------------------------------------- #\n",
    "    # close the client\n",
    "    # ----------------------------------------------------------------------- #\n",
    "    client.close()\n",
    "    return rr\n",
    "\n",
    "\n",
    "rr = run_sync_client()"
   ]
  },
  {
   "cell_type": "code",
   "execution_count": 28,
   "metadata": {},
   "outputs": [
    {
     "data": {
      "text/plain": [
       "<pymodbus.register_read_message.ReadHoldingRegistersResponse at 0x7ff9808bf438>"
      ]
     },
     "execution_count": 28,
     "metadata": {},
     "output_type": "execute_result"
    }
   ],
   "source": [
    "rr"
   ]
  },
  {
   "cell_type": "code",
   "execution_count": 29,
   "metadata": {},
   "outputs": [
    {
     "name": "stderr",
     "output_type": "stream",
     "text": [
      "2018-12-08 03:19:10,994 MainThread      DEBUG    payload        :299      [18534, 1260]\n"
     ]
    }
   ],
   "source": [
    "decoder = BinaryPayloadDecoder.fromRegisters(rr.registers, byteorder=Endian.Big, wordorder=Endian.Big)\n"
   ]
  },
  {
   "cell_type": "code",
   "execution_count": 30,
   "metadata": {},
   "outputs": [
    {
     "name": "stderr",
     "output_type": "stream",
     "text": [
      "2018-12-08 03:19:11,661 MainThread      DEBUG    payload        :343      [b'Hf', b'\\x04\\xec']\n"
     ]
    },
    {
     "data": {
      "text/plain": [
       "235539.6875"
      ]
     },
     "execution_count": 30,
     "metadata": {},
     "output_type": "execute_result"
    }
   ],
   "source": [
    "decoder.decode_32bit_float()"
   ]
  },
  {
   "cell_type": "code",
   "execution_count": 6,
   "metadata": {},
   "outputs": [
    {
     "name": "stderr",
     "output_type": "stream",
     "text": [
      "2018-12-08 03:12:45,810 MainThread      DEBUG    payload        :343      [b'A\\xb2', b'\\xc3\\x83']\n"
     ]
    },
    {
     "name": "stdout",
     "output_type": "stream",
     "text": [
      "1102234499\n"
     ]
    }
   ],
   "source": [
    "bit = decoder.decode_32bit_int()\n",
    "print(bit)"
   ]
  },
  {
   "cell_type": "code",
   "execution_count": 7,
   "metadata": {},
   "outputs": [],
   "source": [
    "x = struct.pack('i', bit)\n",
    "result = struct.unpack('f', x)"
   ]
  },
  {
   "cell_type": "code",
   "execution_count": 8,
   "metadata": {},
   "outputs": [
    {
     "data": {
      "text/plain": [
       "1273.6914882659912"
      ]
     },
     "execution_count": 8,
     "metadata": {},
     "output_type": "execute_result"
    }
   ],
   "source": [
    "result[0] * 57"
   ]
  },
  {
   "cell_type": "code",
   "execution_count": 9,
   "metadata": {},
   "outputs": [],
   "source": [
    "builder = BinaryPayloadBuilder(byteorder=Endian.Big,\n",
    "                                   wordorder=Endian.Little)"
   ]
  },
  {
   "cell_type": "code",
   "execution_count": null,
   "metadata": {},
   "outputs": [],
   "source": []
  },
  {
   "cell_type": "code",
   "execution_count": null,
   "metadata": {},
   "outputs": [],
   "source": [
    "builder.add_32bit_float(22.34)\n",
    "payload = builder.build()\n",
    "payload"
   ]
  },
  {
   "cell_type": "code",
   "execution_count": null,
   "metadata": {},
   "outputs": [],
   "source": []
  },
  {
   "cell_type": "code",
   "execution_count": null,
   "metadata": {},
   "outputs": [],
   "source": [
    "#!/usr/bin/env python\n",
    "\"\"\"\n",
    "Pymodbus Payload Building/Decoding Example\n",
    "--------------------------------------------------------------------------\n",
    "# Run modbus-payload-server.py or synchronous-server.py to check the behavior\n",
    "\"\"\"\n",
    "from pymodbus.constants import Endian\n",
    "from pymodbus.payload import BinaryPayloadDecoder\n",
    "from pymodbus.payload import BinaryPayloadBuilder\n",
    "from pymodbus.client.sync import ModbusTcpClient as ModbusClient\n",
    "from pymodbus.compat import iteritems\n",
    "from collections import OrderedDict\n",
    "# --------------------------------------------------------------------------- #\n",
    "# configure the client logging\n",
    "# --------------------------------------------------------------------------- #\n",
    "import logging\n",
    "FORMAT = ('%(asctime)-15s %(threadName)-15s'\n",
    "          ' %(levelname)-8s %(module)-15s:%(lineno)-8s %(message)s')\n",
    "logging.basicConfig(format=FORMAT)\n",
    "log = logging.getLogger()\n",
    "log.setLevel(logging.INFO)\n",
    "def run_binary_payload_ex():\n",
    "    # ----------------------------------------------------------------------- #\n",
    "    # We are going to use a simple client to send our requests\n",
    "    # ----------------------------------------------------------------------- #\n",
    "    client = ModbusClient('192.168.2.16')\n",
    "    client.connect()\n",
    "\n",
    "    address = 8200\n",
    "    result = client.read_holding_registers(address, 10, unit=1)\n",
    "    print(\"-\" * 60)\n",
    "    print(\"Registers\")\n",
    "    print(\"-\" * 60)\n",
    "    print(result.registers)\n",
    "    print(\"\\n\")\n",
    "    decoder = BinaryPayloadDecoder.fromRegisters(result.registers, byteorder=Endian.Little, \n",
    "                                                 wordorder=Endian.Little)\n",
    "    decoded = OrderedDict([\n",
    "        ('string', decoder.decode_string(8)),\n",
    "        ('bits', decoder.decode_bits()),\n",
    "        ('8int', decoder.decode_8bit_int()),\n",
    "        ('8uint', decoder.decode_8bit_uint()),\n",
    "        ('16int', decoder.decode_16bit_int()),\n",
    "        ('16uint', decoder.decode_16bit_uint()),\n",
    "        ('32int', decoder.decode_32bit_int()),\n",
    "        ('ignore', decoder.skip_bytes(8)),\n",
    "    ])\n",
    "    print(\"-\" * 60)\n",
    "    print(\"Decoded Data\")\n",
    "    print(\"-\" * 60)\n",
    "    for name, value in iteritems(decoded):\n",
    "        print(\"%s\\t\" % name, value if isinstance(value, int) else value)\n",
    "    for name, value in iteritems(decoded):\n",
    "        print(\"%s\\t\" % name, hex(value) if isinstance(value, int) else value)\n",
    "\n",
    "    \n",
    "    # ----------------------------------------------------------------------- #\n",
    "    # close the client\n",
    "    # ----------------------------------------------------------------------- #\n",
    "    client.close()\n",
    "    return decoded"
   ]
  },
  {
   "cell_type": "code",
   "execution_count": null,
   "metadata": {},
   "outputs": [],
   "source": []
  },
  {
   "cell_type": "code",
   "execution_count": null,
   "metadata": {},
   "outputs": [],
   "source": [
    "# import the various server implementations\n",
    "# --------------------------------------------------------------------------- #\n",
    "# from pymodbus.client.sync import ModbusTcpClient as ModbusClient\n",
    "from pymodbus.client.sync import ModbusUdpClient as ModbusClient\n",
    "# from pymodbus.client.sync import ModbusSerialClient as ModbusClient\n",
    "\n",
    "# --------------------------------------------------------------------------- #\n",
    "# configure the client logging\n",
    "# --------------------------------------------------------------------------- #\n",
    "import logging\n",
    "FORMAT = ('%(asctime)-15s %(threadName)-15s '\n",
    "          '%(levelname)-8s %(module)-15s:%(lineno)-8s %(message)s')\n",
    "logging.basicConfig(format=FORMAT)\n",
    "log = logging.getLogger()\n",
    "log.setLevel(logging.DEBUG)\n",
    "\n",
    "UNIT = 0x1\n",
    "\n",
    "\n",
    "def run_sync_client():\n",
    "    # ------------------------------------------------------------------------#\n",
    "    # choose the client you want\n",
    "    # ------------------------------------------------------------------------#\n",
    "    # make sure to start an implementation to hit against. For this\n",
    "    # you can use an existing device, the reference implementation in the tools\n",
    "    # directory, or start a pymodbus server.\n",
    "    #\n",
    "    # If you use the UDP or TCP clients, you can override the framer being used\n",
    "    # to use a custom implementation (say RTU over TCP). By default they use\n",
    "    # the socket framer::\n",
    "    #\n",
    "    #    client = ModbusClient('localhost', port=5020, framer=ModbusRtuFramer)\n",
    "    #\n",
    "    # It should be noted that you can supply an ipv4 or an ipv6 host address\n",
    "    # for both the UDP and TCP clients.\n",
    "    #\n",
    "    # There are also other options that can be set on the client that controls\n",
    "    # how transactions are performed. The current ones are:\n",
    "    #\n",
    "    # * retries - Specify how many retries to allow per transaction (default=3)\n",
    "    # * retry_on_empty - Is an empty response a retry (default = False)\n",
    "    # * source_address - Specifies the TCP source address to bind to\n",
    "    #\n",
    "    # Here is an example of using these options::\n",
    "    #\n",
    "    #    client = ModbusClient('localhost', retries=3, retry_on_empty=True)\n",
    "    # ------------------------------------------------------------------------#\n",
    "    client = ModbusClient('192.168.2.1', port=502)\n",
    "\n",
    "    client.connect()\n",
    "\n",
    "    # ------------------------------------------------------------------------#\n",
    "    # specify slave to query\n",
    "    # ------------------------------------------------------------------------#\n",
    "    # The slave to query is specified in an optional parameter for each\n",
    "    # individual request. This can be done by specifying the `unit` parameter\n",
    "    # which defaults to `0x00`\n",
    "    # ----------------------------------------------------------------------- #\n",
    "    log.debug(\"Reading Coils\")\n",
    "    rr = client.read_coils(16396, 1, unit=UNIT)\n",
    "    log.debug(rr)\n",
    "\n",
    "\n",
    "    # ----------------------------------------------------------------------- #\n",
    "    # example requests\n",
    "    # ----------------------------------------------------------------------- #\n",
    "    # simply call the methods that you would like to use. An example session\n",
    "    # is displayed below along with some assert checks. Note that some modbus\n",
    "    # implementations differentiate holding/input discrete/coils and as such\n",
    "    # you will not be able to write to these, therefore the starting values\n",
    "    # are not known to these tests. Furthermore, some use the same memory\n",
    "    # blocks for the two sets, so a change to one is a change to the other.\n",
    "    # Keep both of these cases in mind when testing as the following will\n",
    "    # _only_ pass with the supplied async modbus server (script supplied).\n",
    "    # ----------------------------------------------------------------------- #\n",
    "#     log.debug(\"Write to a Coil and read back\")\n",
    "#     rq = client.write_coil(0, True, unit=UNIT)\n",
    "#     rr = client.read_coils(0, 1, unit=UNIT)\n",
    "#     assert(not rq.isError())     # test that we are not an error\n",
    "#     assert(rr.bits[0] == True)          # test the expected value\n",
    "\n",
    "#     log.debug(\"Write to multiple coils and read back- test 1\")\n",
    "#     rq = client.write_coils(1, [True]*8, unit=UNIT)\n",
    "#     assert(not rq.isError())     # test that we are not an error\n",
    "#     rr = client.read_coils(1, 21, unit=UNIT)\n",
    "#     assert(not rr.isError())     # test that we are not an error\n",
    "#     resp = [True]*21\n",
    "\n",
    "#     # If the returned output quantity is not a multiple of eight,\n",
    "#     # the remaining bits in the final data byte will be padded with zeros\n",
    "#     # (toward the high order end of the byte).\n",
    "\n",
    "#     resp.extend([False]*3)\n",
    "#     assert(rr.bits == resp)         # test the expected value\n",
    "\n",
    "#     log.debug(\"Write to multiple coils and read back - test 2\")\n",
    "#     rq = client.write_coils(1, [False]*8, unit=UNIT)\n",
    "#     rr = client.read_coils(1, 8, unit=UNIT)\n",
    "#     assert(not rq.isError())     # test that we are not an error\n",
    "#     assert(rr.bits == [False]*8)         # test the expected value\n",
    "\n",
    "#     log.debug(\"Read discrete inputs\")\n",
    "#     rr = client.read_discrete_inputs(0, 8, unit=UNIT)\n",
    "#     assert(not rq.isError())     # test that we are not an error\n",
    "\n",
    "#     log.debug(\"Write to a holding register and read back\")\n",
    "# #     rq = client.write_register(1, 10, unit=UNIT)\n",
    "#     rr = client.read_holding_registers(24578, 1, unit=UNIT)\n",
    "#     assert(not rq.isError())     # test that we are not an error\n",
    "#     assert(rr.registers[0] == 10)       # test the expected value\n",
    "\n",
    "# #     log.debug(\"Write to multiple holding registers and read back\")\n",
    "# #     rq = client.write_registers(1, [10]*8, unit=UNIT)\n",
    "# #     rr = client.read_holding_registers(1, 8, unit=UNIT)\n",
    "# #     assert(not rq.isError())     # test that we are not an error\n",
    "# #     assert(rr.registers == [10]*8)      # test the expected value\n",
    "\n",
    "#     log.debug(\"Read input registers\")\n",
    "#     rr = client.read_input_registers(8196, 8, unit=UNIT)\n",
    "#     assert(not rq.isError())     # test that we are not an error\n",
    "\n",
    "#     arguments = {\n",
    "#         'read_address':    1,\n",
    "#         'read_count':      8,\n",
    "#         'write_address':   1,\n",
    "#         'write_registers': [20]*8,\n",
    "#     }\n",
    "# #     log.debug(\"Read write registeres simulataneously\")\n",
    "# #     rq = client.readwrite_registers(unit=UNIT, **arguments)\n",
    "# #     rr = client.read_holding_registers(1, 8, unit=UNIT)\n",
    "# #     assert(not rq.isError())     # test that we are not an error\n",
    "# #     assert(rq.registers == [20]*8)      # test the expected value\n",
    "# #     assert(rr.registers == [20]*8)      # test the expected value\n",
    "\n",
    "#     # ----------------------------------------------------------------------- #\n",
    "#     # close the client\n",
    "#     # ----------------------------------------------------------------------- #\n",
    "    client.close()\n",
    "\n",
    "\n",
    "\n",
    "run_sync_client()"
   ]
  },
  {
   "cell_type": "code",
   "execution_count": null,
   "metadata": {},
   "outputs": [],
   "source": [
    "client = ModbusClient('192.168.2.16', port=502)"
   ]
  },
  {
   "cell_type": "code",
   "execution_count": null,
   "metadata": {},
   "outputs": [],
   "source": [
    "client.connect()"
   ]
  },
  {
   "cell_type": "code",
   "execution_count": null,
   "metadata": {},
   "outputs": [],
   "source": [
    "log.debug(\"Read input registers\")\n",
    "rr = client.read_input_registers(8196, 8, unit=UNIT)\n",
    "assert(not rq.isError())     # test that we are not an error"
   ]
  },
  {
   "cell_type": "code",
   "execution_count": null,
   "metadata": {},
   "outputs": [],
   "source": []
  }
 ],
 "metadata": {
  "kernelspec": {
   "display_name": "Python 3",
   "language": "python",
   "name": "python3"
  },
  "language_info": {
   "codemirror_mode": {
    "name": "ipython",
    "version": 3
   },
   "file_extension": ".py",
   "mimetype": "text/x-python",
   "name": "python",
   "nbconvert_exporter": "python",
   "pygments_lexer": "ipython3",
   "version": "3.7.1"
  }
 },
 "nbformat": 4,
 "nbformat_minor": 2
}
